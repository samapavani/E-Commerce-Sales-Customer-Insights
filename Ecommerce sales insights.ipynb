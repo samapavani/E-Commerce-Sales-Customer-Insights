{
 "cells": [
  {
   "cell_type": "code",
   "execution_count": 45,
   "id": "c5ca2d30-b6be-4a82-9e4e-8f62c9adb4e4",
   "metadata": {},
   "outputs": [],
   "source": [
    "# Import necessary libraries\n",
    "import pandas as pd\n",
    "import numpy as np\n",
    "import matplotlib.pyplot as plt\n",
    "import seaborn as sns\n",
    "\n",
    "# Optional: make charts look better\n",
    "sns.set_style('whitegrid')\n"
   ]
  },
  {
   "cell_type": "code",
   "execution_count": 47,
   "id": "2af26be0-628d-49b2-be13-cae2a4b7af3e",
   "metadata": {},
   "outputs": [
    {
     "data": {
      "text/html": [
       "<div>\n",
       "<style scoped>\n",
       "    .dataframe tbody tr th:only-of-type {\n",
       "        vertical-align: middle;\n",
       "    }\n",
       "\n",
       "    .dataframe tbody tr th {\n",
       "        vertical-align: top;\n",
       "    }\n",
       "\n",
       "    .dataframe thead th {\n",
       "        text-align: right;\n",
       "    }\n",
       "</style>\n",
       "<table border=\"1\" class=\"dataframe\">\n",
       "  <thead>\n",
       "    <tr style=\"text-align: right;\">\n",
       "      <th></th>\n",
       "      <th>OrderID</th>\n",
       "      <th>CustomerID</th>\n",
       "      <th>Product</th>\n",
       "      <th>Category</th>\n",
       "      <th>Quantity</th>\n",
       "      <th>Price</th>\n",
       "      <th>OrderDate</th>\n",
       "    </tr>\n",
       "  </thead>\n",
       "  <tbody>\n",
       "    <tr>\n",
       "      <th>0</th>\n",
       "      <td>1001</td>\n",
       "      <td>1</td>\n",
       "      <td>Laptop</td>\n",
       "      <td>Electronics</td>\n",
       "      <td>1</td>\n",
       "      <td>700</td>\n",
       "      <td>2025-09-01</td>\n",
       "    </tr>\n",
       "    <tr>\n",
       "      <th>1</th>\n",
       "      <td>1002</td>\n",
       "      <td>2</td>\n",
       "      <td>Headphones</td>\n",
       "      <td>Electronics</td>\n",
       "      <td>2</td>\n",
       "      <td>50</td>\n",
       "      <td>2025-09-01</td>\n",
       "    </tr>\n",
       "    <tr>\n",
       "      <th>2</th>\n",
       "      <td>1003</td>\n",
       "      <td>3</td>\n",
       "      <td>Mouse</td>\n",
       "      <td>Electronics</td>\n",
       "      <td>1</td>\n",
       "      <td>20</td>\n",
       "      <td>2025-09-02</td>\n",
       "    </tr>\n",
       "    <tr>\n",
       "      <th>3</th>\n",
       "      <td>1004</td>\n",
       "      <td>1</td>\n",
       "      <td>Laptop</td>\n",
       "      <td>Electronics</td>\n",
       "      <td>1</td>\n",
       "      <td>700</td>\n",
       "      <td>2025-09-03</td>\n",
       "    </tr>\n",
       "    <tr>\n",
       "      <th>4</th>\n",
       "      <td>1005</td>\n",
       "      <td>2</td>\n",
       "      <td>Mouse</td>\n",
       "      <td>Electronics</td>\n",
       "      <td>3</td>\n",
       "      <td>20</td>\n",
       "      <td>2025-09-03</td>\n",
       "    </tr>\n",
       "    <tr>\n",
       "      <th>5</th>\n",
       "      <td>1006</td>\n",
       "      <td>4</td>\n",
       "      <td>Keyboard</td>\n",
       "      <td>Electronics</td>\n",
       "      <td>1</td>\n",
       "      <td>100</td>\n",
       "      <td>2025-09-04</td>\n",
       "    </tr>\n",
       "    <tr>\n",
       "      <th>6</th>\n",
       "      <td>1007</td>\n",
       "      <td>5</td>\n",
       "      <td>Headphones</td>\n",
       "      <td>Electronics</td>\n",
       "      <td>2</td>\n",
       "      <td>50</td>\n",
       "      <td>2025-09-05</td>\n",
       "    </tr>\n",
       "  </tbody>\n",
       "</table>\n",
       "</div>"
      ],
      "text/plain": [
       "   OrderID  CustomerID     Product     Category  Quantity  Price   OrderDate\n",
       "0     1001           1      Laptop  Electronics         1    700  2025-09-01\n",
       "1     1002           2  Headphones  Electronics         2     50  2025-09-01\n",
       "2     1003           3       Mouse  Electronics         1     20  2025-09-02\n",
       "3     1004           1      Laptop  Electronics         1    700  2025-09-03\n",
       "4     1005           2       Mouse  Electronics         3     20  2025-09-03\n",
       "5     1006           4    Keyboard  Electronics         1    100  2025-09-04\n",
       "6     1007           5  Headphones  Electronics         2     50  2025-09-05"
      ]
     },
     "execution_count": 47,
     "metadata": {},
     "output_type": "execute_result"
    }
   ],
   "source": [
    "# Sample dataset\n",
    "data = {\n",
    "    'OrderID': [1001, 1002, 1003, 1004, 1005, 1006, 1007],\n",
    "    'CustomerID': [1, 2, 3, 1, 2, 4, 5],\n",
    "    'Product': ['Laptop', 'Headphones', 'Mouse', 'Laptop', 'Mouse', 'Keyboard', 'Headphones'],\n",
    "    'Category': ['Electronics', 'Electronics', 'Electronics', 'Electronics', 'Electronics', 'Electronics', 'Electronics'],\n",
    "    'Quantity': [1, 2, 1, 1, 3, 1, 2],\n",
    "    'Price': [700, 50, 20, 700, 20, 100, 50],\n",
    "    'OrderDate': ['2025-09-01','2025-09-01','2025-09-02','2025-09-03','2025-09-03','2025-09-04','2025-09-05']\n",
    "}\n",
    "\n",
    "# Create DataFrame\n",
    "df = pd.DataFrame(data)\n",
    "\n",
    "# Show the data\n",
    "df\n"
   ]
  },
  {
   "cell_type": "code",
   "execution_count": 49,
   "id": "c17de220-e825-4dac-a0b8-038e0510567f",
   "metadata": {},
   "outputs": [
    {
     "data": {
      "text/html": [
       "<div>\n",
       "<style scoped>\n",
       "    .dataframe tbody tr th:only-of-type {\n",
       "        vertical-align: middle;\n",
       "    }\n",
       "\n",
       "    .dataframe tbody tr th {\n",
       "        vertical-align: top;\n",
       "    }\n",
       "\n",
       "    .dataframe thead th {\n",
       "        text-align: right;\n",
       "    }\n",
       "</style>\n",
       "<table border=\"1\" class=\"dataframe\">\n",
       "  <thead>\n",
       "    <tr style=\"text-align: right;\">\n",
       "      <th></th>\n",
       "      <th>OrderID</th>\n",
       "      <th>CustomerID</th>\n",
       "      <th>Product</th>\n",
       "      <th>Category</th>\n",
       "      <th>Quantity</th>\n",
       "      <th>Price</th>\n",
       "      <th>OrderDate</th>\n",
       "      <th>TotalSales</th>\n",
       "    </tr>\n",
       "  </thead>\n",
       "  <tbody>\n",
       "    <tr>\n",
       "      <th>0</th>\n",
       "      <td>1001</td>\n",
       "      <td>1</td>\n",
       "      <td>Laptop</td>\n",
       "      <td>Electronics</td>\n",
       "      <td>1</td>\n",
       "      <td>700</td>\n",
       "      <td>2025-09-01</td>\n",
       "      <td>700</td>\n",
       "    </tr>\n",
       "    <tr>\n",
       "      <th>1</th>\n",
       "      <td>1002</td>\n",
       "      <td>2</td>\n",
       "      <td>Headphones</td>\n",
       "      <td>Electronics</td>\n",
       "      <td>2</td>\n",
       "      <td>50</td>\n",
       "      <td>2025-09-01</td>\n",
       "      <td>100</td>\n",
       "    </tr>\n",
       "    <tr>\n",
       "      <th>2</th>\n",
       "      <td>1003</td>\n",
       "      <td>3</td>\n",
       "      <td>Mouse</td>\n",
       "      <td>Electronics</td>\n",
       "      <td>1</td>\n",
       "      <td>20</td>\n",
       "      <td>2025-09-02</td>\n",
       "      <td>20</td>\n",
       "    </tr>\n",
       "    <tr>\n",
       "      <th>3</th>\n",
       "      <td>1004</td>\n",
       "      <td>1</td>\n",
       "      <td>Laptop</td>\n",
       "      <td>Electronics</td>\n",
       "      <td>1</td>\n",
       "      <td>700</td>\n",
       "      <td>2025-09-03</td>\n",
       "      <td>700</td>\n",
       "    </tr>\n",
       "    <tr>\n",
       "      <th>4</th>\n",
       "      <td>1005</td>\n",
       "      <td>2</td>\n",
       "      <td>Mouse</td>\n",
       "      <td>Electronics</td>\n",
       "      <td>3</td>\n",
       "      <td>20</td>\n",
       "      <td>2025-09-03</td>\n",
       "      <td>60</td>\n",
       "    </tr>\n",
       "    <tr>\n",
       "      <th>5</th>\n",
       "      <td>1006</td>\n",
       "      <td>4</td>\n",
       "      <td>Keyboard</td>\n",
       "      <td>Electronics</td>\n",
       "      <td>1</td>\n",
       "      <td>100</td>\n",
       "      <td>2025-09-04</td>\n",
       "      <td>100</td>\n",
       "    </tr>\n",
       "    <tr>\n",
       "      <th>6</th>\n",
       "      <td>1007</td>\n",
       "      <td>5</td>\n",
       "      <td>Headphones</td>\n",
       "      <td>Electronics</td>\n",
       "      <td>2</td>\n",
       "      <td>50</td>\n",
       "      <td>2025-09-05</td>\n",
       "      <td>100</td>\n",
       "    </tr>\n",
       "  </tbody>\n",
       "</table>\n",
       "</div>"
      ],
      "text/plain": [
       "   OrderID  CustomerID     Product     Category  Quantity  Price   OrderDate  \\\n",
       "0     1001           1      Laptop  Electronics         1    700  2025-09-01   \n",
       "1     1002           2  Headphones  Electronics         2     50  2025-09-01   \n",
       "2     1003           3       Mouse  Electronics         1     20  2025-09-02   \n",
       "3     1004           1      Laptop  Electronics         1    700  2025-09-03   \n",
       "4     1005           2       Mouse  Electronics         3     20  2025-09-03   \n",
       "5     1006           4    Keyboard  Electronics         1    100  2025-09-04   \n",
       "6     1007           5  Headphones  Electronics         2     50  2025-09-05   \n",
       "\n",
       "   TotalSales  \n",
       "0         700  \n",
       "1         100  \n",
       "2          20  \n",
       "3         700  \n",
       "4          60  \n",
       "5         100  \n",
       "6         100  "
      ]
     },
     "execution_count": 49,
     "metadata": {},
     "output_type": "execute_result"
    }
   ],
   "source": [
    "df['TotalSales'] = df['Quantity'] * df['Price']\n",
    "df\n"
   ]
  },
  {
   "cell_type": "code",
   "execution_count": 51,
   "id": "674b23d6-8ca5-4498-84b0-065f8e2adeb7",
   "metadata": {},
   "outputs": [
    {
     "data": {
      "text/html": [
       "<div>\n",
       "<style scoped>\n",
       "    .dataframe tbody tr th:only-of-type {\n",
       "        vertical-align: middle;\n",
       "    }\n",
       "\n",
       "    .dataframe tbody tr th {\n",
       "        vertical-align: top;\n",
       "    }\n",
       "\n",
       "    .dataframe thead th {\n",
       "        text-align: right;\n",
       "    }\n",
       "</style>\n",
       "<table border=\"1\" class=\"dataframe\">\n",
       "  <thead>\n",
       "    <tr style=\"text-align: right;\">\n",
       "      <th></th>\n",
       "      <th>Product</th>\n",
       "      <th>TotalSales</th>\n",
       "    </tr>\n",
       "  </thead>\n",
       "  <tbody>\n",
       "    <tr>\n",
       "      <th>0</th>\n",
       "      <td>Headphones</td>\n",
       "      <td>200</td>\n",
       "    </tr>\n",
       "    <tr>\n",
       "      <th>1</th>\n",
       "      <td>Keyboard</td>\n",
       "      <td>100</td>\n",
       "    </tr>\n",
       "    <tr>\n",
       "      <th>2</th>\n",
       "      <td>Laptop</td>\n",
       "      <td>1400</td>\n",
       "    </tr>\n",
       "    <tr>\n",
       "      <th>3</th>\n",
       "      <td>Mouse</td>\n",
       "      <td>80</td>\n",
       "    </tr>\n",
       "  </tbody>\n",
       "</table>\n",
       "</div>"
      ],
      "text/plain": [
       "      Product  TotalSales\n",
       "0  Headphones         200\n",
       "1    Keyboard         100\n",
       "2      Laptop        1400\n",
       "3       Mouse          80"
      ]
     },
     "execution_count": 51,
     "metadata": {},
     "output_type": "execute_result"
    }
   ],
   "source": [
    "sales_by_product = df.groupby('Product')['TotalSales'].sum().reset_index()\n",
    "sales_by_product\n"
   ]
  },
  {
   "cell_type": "code",
   "execution_count": 53,
   "id": "634409bd-12ee-4851-88b7-ba3349c08bf2",
   "metadata": {},
   "outputs": [
    {
     "data": {
      "image/png": "[encoded data removed]",
      "text/plain": [
       "<Figure size 800x500 with 1 Axes>"
      ]
     },
     "metadata": {},
     "output_type": "display_data"
    }
   ],
   "source": [
    "plt.figure(figsize=(8,5))\n",
    "plt.bar(sales_by_product['Product'], sales_by_product['TotalSales'], color='skyblue')\n",
    "plt.title('Total Sales by Product')\n",
    "plt.xlabel('Product')\n",
    "plt.ylabel('Total Sales')\n",
    "plt.show()\n"
   ]
  },
  {
   "cell_type": "code",
   "execution_count": 55,
   "id": "79f38fcf-0384-47af-96f2-d78a8723e3be",
   "metadata": {},
   "outputs": [
    {
     "data": {
      "text/html": [
       "<div>\n",
       "<style scoped>\n",
       "    .dataframe tbody tr th:only-of-type {\n",
       "        vertical-align: middle;\n",
       "    }\n",
       "\n",
       "    .dataframe tbody tr th {\n",
       "        vertical-align: top;\n",
       "    }\n",
       "\n",
       "    .dataframe thead th {\n",
       "        text-align: right;\n",
       "    }\n",
       "</style>\n",
       "<table border=\"1\" class=\"dataframe\">\n",
       "  <thead>\n",
       "    <tr style=\"text-align: right;\">\n",
       "      <th></th>\n",
       "      <th>CustomerID</th>\n",
       "      <th>TotalSales</th>\n",
       "    </tr>\n",
       "  </thead>\n",
       "  <tbody>\n",
       "    <tr>\n",
       "      <th>0</th>\n",
       "      <td>1</td>\n",
       "      <td>1400</td>\n",
       "    </tr>\n",
       "    <tr>\n",
       "      <th>1</th>\n",
       "      <td>2</td>\n",
       "      <td>160</td>\n",
       "    </tr>\n",
       "    <tr>\n",
       "      <th>2</th>\n",
       "      <td>3</td>\n",
       "      <td>20</td>\n",
       "    </tr>\n",
       "    <tr>\n",
       "      <th>3</th>\n",
       "      <td>4</td>\n",
       "      <td>100</td>\n",
       "    </tr>\n",
       "    <tr>\n",
       "      <th>4</th>\n",
       "      <td>5</td>\n",
       "      <td>100</td>\n",
       "    </tr>\n",
       "  </tbody>\n",
       "</table>\n",
       "</div>"
      ],
      "text/plain": [
       "   CustomerID  TotalSales\n",
       "0           1        1400\n",
       "1           2         160\n",
       "2           3          20\n",
       "3           4         100\n",
       "4           5         100"
      ]
     },
     "execution_count": 55,
     "metadata": {},
     "output_type": "execute_result"
    }
   ],
   "source": [
    "sales_by_customer = df.groupby('CustomerID')['TotalSales'].sum().reset_index()\n",
    "sales_by_customer\n"
   ]
  },
  {
   "cell_type": "code",
   "execution_count": 57,
   "id": "5e889902-0b0c-44ae-93a9-6eb0624e349a",
   "metadata": {},
   "outputs": [
    {
     "data": {
      "image/png": "[encoded data removed]",
      "text/plain": [
       "<Figure size 800x500 with 1 Axes>"
      ]
     },
     "metadata": {},
     "output_type": "display_data"
    }
   ],
   "source": [
    "plt.figure(figsize=(8,5))\n",
    "plt.bar(sales_by_customer['CustomerID'], sales_by_customer['TotalSales'], color='orange')\n",
    "plt.title('Total Sales by Customer')\n",
    "plt.xlabel('CustomerID')\n",
    "plt.ylabel('Total Sales')\n",
    "plt.show()\n"
   ]
  },
  {
   "cell_type": "code",
   "execution_count": 59,
   "id": "ff7087c8-8136-449e-93df-de9f231502f2",
   "metadata": {},
   "outputs": [
    {
     "data": {
      "image/png": "[encoded data removed]",
      "text/plain": [
       "<Figure size 800x500 with 1 Axes>"
      ]
     },
     "metadata": {},
     "output_type": "display_data"
    }
   ],
   "source": [
    "# Convert OrderDate to datetime\n",
    "df['OrderDate'] = pd.to_datetime(df['OrderDate'])\n",
    "\n",
    "# Group by date\n",
    "daily_sales = df.groupby('OrderDate')['TotalSales'].sum().reset_index()\n",
    "\n",
    "plt.figure(figsize=(8,5))\n",
    "plt.plot(daily_sales['OrderDate'], daily_sales['TotalSales'], marker='o', color='green')\n",
    "plt.title('Daily Sales Trend')\n",
    "plt.xlabel('Date')\n",
    "plt.ylabel('Total Sales')\n",
    "plt.show()\n"
   ]
  },
  {
   "cell_type": "code",
   "execution_count": 61,
   "id": "191e418f-328c-46df-a6c0-933da3a66003",
   "metadata": {},
   "outputs": [
    {
     "data": {
      "text/html": [
       "<div>\n",
       "<style scoped>\n",
       "    .dataframe tbody tr th:only-of-type {\n",
       "        vertical-align: middle;\n",
       "    }\n",
       "\n",
       "    .dataframe tbody tr th {\n",
       "        vertical-align: top;\n",
       "    }\n",
       "\n",
       "    .dataframe thead th {\n",
       "        text-align: right;\n",
       "    }\n",
       "</style>\n",
       "<table border=\"1\" class=\"dataframe\">\n",
       "  <thead>\n",
       "    <tr style=\"text-align: right;\">\n",
       "      <th></th>\n",
       "      <th>Product</th>\n",
       "      <th>TotalSales</th>\n",
       "    </tr>\n",
       "  </thead>\n",
       "  <tbody>\n",
       "    <tr>\n",
       "      <th>2</th>\n",
       "      <td>Laptop</td>\n",
       "      <td>1400</td>\n",
       "    </tr>\n",
       "    <tr>\n",
       "      <th>0</th>\n",
       "      <td>Headphones</td>\n",
       "      <td>200</td>\n",
       "    </tr>\n",
       "    <tr>\n",
       "      <th>1</th>\n",
       "      <td>Keyboard</td>\n",
       "      <td>100</td>\n",
       "    </tr>\n",
       "  </tbody>\n",
       "</table>\n",
       "</div>"
      ],
      "text/plain": [
       "      Product  TotalSales\n",
       "2      Laptop        1400\n",
       "0  Headphones         200\n",
       "1    Keyboard         100"
      ]
     },
     "execution_count": 61,
     "metadata": {},
     "output_type": "execute_result"
    }
   ],
   "source": [
    "top_products = sales_by_product.sort_values(by='TotalSales', ascending=False).head(3)\n",
    "top_products\n"
   ]
  },
  {
   "cell_type": "markdown",
   "id": "8d0a2b43-3ed1-49e0-bac9-4d9343be9acc",
   "metadata": {},
   "source": [
    "### Insights from E-Commerce Data\r\n",
    "\r\n",
    "1. **Top-Selling Product:** Laptop\r\n",
    "   - Laptop had the highest total sales among all products.\r\n",
    "2. **Top Customers:** CustomerID 1 and 2\r\n",
    "   - They made multiple purchases and contributed most to revenue.\r\n",
    "3. **Daily Sales Trend:** Increasing over the days\r\n",
    "   - Indicates growing sales or repeated purchases over time.\r\n",
    "4. **Business Suggestions:**\r\n",
    "   - Focus marketing campaigns on top-selling products.\r\n",
    "   - Reward top customers with discounts or offers.\r\n",
    "   - Stock popular items more to meet demand.\r\n"
   ]
  },
  {
   "cell_type": "code",
   "execution_count": 64,
   "id": "8a46a5a4-9ef9-4605-82a7-17033b4c1481",
   "metadata": {},
   "outputs": [
    {
     "data": {
      "text/html": [
       "<div>\n",
       "<style scoped>\n",
       "    .dataframe tbody tr th:only-of-type {\n",
       "        vertical-align: middle;\n",
       "    }\n",
       "\n",
       "    .dataframe tbody tr th {\n",
       "        vertical-align: top;\n",
       "    }\n",
       "\n",
       "    .dataframe thead th {\n",
       "        text-align: right;\n",
       "    }\n",
       "</style>\n",
       "<table border=\"1\" class=\"dataframe\">\n",
       "  <thead>\n",
       "    <tr style=\"text-align: right;\">\n",
       "      <th></th>\n",
       "      <th>Category</th>\n",
       "      <th>TotalSales</th>\n",
       "    </tr>\n",
       "  </thead>\n",
       "  <tbody>\n",
       "    <tr>\n",
       "      <th>0</th>\n",
       "      <td>Electronics</td>\n",
       "      <td>1780</td>\n",
       "    </tr>\n",
       "  </tbody>\n",
       "</table>\n",
       "</div>"
      ],
      "text/plain": [
       "      Category  TotalSales\n",
       "0  Electronics        1780"
      ]
     },
     "execution_count": 64,
     "metadata": {},
     "output_type": "execute_result"
    }
   ],
   "source": [
    "sales_by_category = df.groupby('Category')['TotalSales'].sum().reset_index()\n",
    "sales_by_category\n"
   ]
  },
  {
   "cell_type": "code",
   "execution_count": 66,
   "id": "205207f8-a9f9-4107-84a7-81f62299b7b1",
   "metadata": {},
   "outputs": [
    {
     "data": {
      "image/png": "[encoded data removed]",
      "text/plain": [
       "<Figure size 800x500 with 1 Axes>"
      ]
     },
     "metadata": {},
     "output_type": "display_data"
    }
   ],
   "source": [
    "plt.figure(figsize=(8,5))\n",
    "plt.bar(sales_by_category['Category'], sales_by_category['TotalSales'], color='purple')\n",
    "plt.title('Total Sales by Category')\n",
    "plt.xlabel('Category')\n",
    "plt.ylabel('Total Sales')\n",
    "plt.show()\n"
   ]
  },
  {
   "cell_type": "code",
   "execution_count": 68,
   "id": "1f189b3b-1ce0-4991-bb61-2f2494fe682f",
   "metadata": {},
   "outputs": [
    {
     "data": {
      "text/plain": [
       "CustomerID\n",
       "1    2\n",
       "2    2\n",
       "3    1\n",
       "4    1\n",
       "5    1\n",
       "Name: count, dtype: int64"
      ]
     },
     "execution_count": 68,
     "metadata": {},
     "output_type": "execute_result"
    }
   ],
   "source": [
    "repeat_customers = df['CustomerID'].value_counts()\n",
    "repeat_customers\n",
    "\n"
   ]
  },
  {
   "cell_type": "code",
   "execution_count": 70,
   "id": "aeb8ff82-ab7c-4a58-907b-27f15a3b15c1",
   "metadata": {},
   "outputs": [
    {
     "data": {
      "image/png": "[encoded data removed]",
      "text/plain": [
       "<Figure size 800x500 with 1 Axes>"
      ]
     },
     "metadata": {},
     "output_type": "display_data"
    }
   ],
   "source": [
    "plt.figure(figsize=(8,5))\n",
    "repeat_customers.plot(kind='bar', color='teal')\n",
    "plt.title('Number of Orders per Customer')\n",
    "plt.xlabel('CustomerID')\n",
    "plt.ylabel('Number of Orders')\n",
    "plt.show()\n"
   ]
  },
  {
   "cell_type": "code",
   "execution_count": 72,
   "id": "bc4fca0f-2c48-43bc-a3f7-e3511ef7b524",
   "metadata": {},
   "outputs": [
    {
     "data": {
      "text/html": [
       "<div>\n",
       "<style scoped>\n",
       "    .dataframe tbody tr th:only-of-type {\n",
       "        vertical-align: middle;\n",
       "    }\n",
       "\n",
       "    .dataframe tbody tr th {\n",
       "        vertical-align: top;\n",
       "    }\n",
       "\n",
       "    .dataframe thead th {\n",
       "        text-align: right;\n",
       "    }\n",
       "</style>\n",
       "<table border=\"1\" class=\"dataframe\">\n",
       "  <thead>\n",
       "    <tr style=\"text-align: right;\">\n",
       "      <th></th>\n",
       "      <th>Product</th>\n",
       "      <th>TotalSales</th>\n",
       "    </tr>\n",
       "  </thead>\n",
       "  <tbody>\n",
       "    <tr>\n",
       "      <th>2</th>\n",
       "      <td>Laptop</td>\n",
       "      <td>1400</td>\n",
       "    </tr>\n",
       "    <tr>\n",
       "      <th>0</th>\n",
       "      <td>Headphones</td>\n",
       "      <td>200</td>\n",
       "    </tr>\n",
       "    <tr>\n",
       "      <th>1</th>\n",
       "      <td>Keyboard</td>\n",
       "      <td>100</td>\n",
       "    </tr>\n",
       "  </tbody>\n",
       "</table>\n",
       "</div>"
      ],
      "text/plain": [
       "      Product  TotalSales\n",
       "2      Laptop        1400\n",
       "0  Headphones         200\n",
       "1    Keyboard         100"
      ]
     },
     "execution_count": 72,
     "metadata": {},
     "output_type": "execute_result"
    }
   ],
   "source": [
    "top_products = sales_by_product.sort_values(by='TotalSales', ascending=False).head(3)\n",
    "top_products\n"
   ]
  },
  {
   "cell_type": "markdown",
   "id": "77758b75-0805-4d00-9cfc-87611230b19a",
   "metadata": {},
   "source": [
    "### Summary of E-Commerce Analysis\r\n",
    "\r\n",
    "- **Total Sales Generated:** $[sum of TotalSales]  \r\n",
    "- **Top Product:** Laptop  \r\n",
    "- **Top Customers:** CustomerID 1, 2  \r\n",
    "- **Repeat Customers:** CustomerID 1 (2 orders), CustomerID 2 (2 orders)  \r\n",
    "- **Business Suggestions:**\r\n",
    "   1. Focus marketing on top-selling products.\r\n",
    "   2. Encourage repeat customers with loyalty programs.\r\n",
    "   3. Stock up on high-demand products.\r\n",
    "   4. Consider bundling top products for promotions.\r\n"
   ]
  },
  {
   "cell_type": "code",
   "execution_count": 75,
   "id": "b6f583fe-2ae2-46c0-aa51-c525ab8aaa3d",
   "metadata": {},
   "outputs": [
    {
     "data": {
      "text/html": [
       "<div>\n",
       "<style scoped>\n",
       "    .dataframe tbody tr th:only-of-type {\n",
       "        vertical-align: middle;\n",
       "    }\n",
       "\n",
       "    .dataframe tbody tr th {\n",
       "        vertical-align: top;\n",
       "    }\n",
       "\n",
       "    .dataframe thead th {\n",
       "        text-align: right;\n",
       "    }\n",
       "</style>\n",
       "<table border=\"1\" class=\"dataframe\">\n",
       "  <thead>\n",
       "    <tr style=\"text-align: right;\">\n",
       "      <th></th>\n",
       "      <th>CustomerID</th>\n",
       "      <th>Recency</th>\n",
       "      <th>Frequency</th>\n",
       "      <th>Monetary</th>\n",
       "    </tr>\n",
       "  </thead>\n",
       "  <tbody>\n",
       "    <tr>\n",
       "      <th>0</th>\n",
       "      <td>1</td>\n",
       "      <td>2</td>\n",
       "      <td>2</td>\n",
       "      <td>1400</td>\n",
       "    </tr>\n",
       "    <tr>\n",
       "      <th>1</th>\n",
       "      <td>2</td>\n",
       "      <td>2</td>\n",
       "      <td>2</td>\n",
       "      <td>160</td>\n",
       "    </tr>\n",
       "    <tr>\n",
       "      <th>2</th>\n",
       "      <td>3</td>\n",
       "      <td>3</td>\n",
       "      <td>1</td>\n",
       "      <td>20</td>\n",
       "    </tr>\n",
       "    <tr>\n",
       "      <th>3</th>\n",
       "      <td>4</td>\n",
       "      <td>1</td>\n",
       "      <td>1</td>\n",
       "      <td>100</td>\n",
       "    </tr>\n",
       "    <tr>\n",
       "      <th>4</th>\n",
       "      <td>5</td>\n",
       "      <td>0</td>\n",
       "      <td>1</td>\n",
       "      <td>100</td>\n",
       "    </tr>\n",
       "  </tbody>\n",
       "</table>\n",
       "</div>"
      ],
      "text/plain": [
       "   CustomerID  Recency  Frequency  Monetary\n",
       "0           1        2          2      1400\n",
       "1           2        2          2       160\n",
       "2           3        3          1        20\n",
       "3           4        1          1       100\n",
       "4           5        0          1       100"
      ]
     },
     "execution_count": 75,
     "metadata": {},
     "output_type": "execute_result"
    }
   ],
   "source": [
    "# Latest date in dataset\n",
    "latest_date = df['OrderDate'].max()\n",
    "\n",
    "# Create RFM table\n",
    "rfm = df.groupby('CustomerID').agg({\n",
    "    'OrderDate': lambda x: (latest_date - x.max()).days,  # Recency\n",
    "    'OrderID': 'count',  # Frequency\n",
    "    'TotalSales': 'sum'  # Monetary\n",
    "}).reset_index()\n",
    "\n",
    "# Rename columns\n",
    "rfm.columns = ['CustomerID', 'Recency', 'Frequency', 'Monetary']\n",
    "\n",
    "rfm\n"
   ]
  },
  {
   "cell_type": "code",
   "execution_count": 77,
   "id": "ac3f56c6-169a-4c81-a29a-a15d8ed0f647",
   "metadata": {},
   "outputs": [
    {
     "data": {
      "text/html": [
       "<div>\n",
       "<style scoped>\n",
       "    .dataframe tbody tr th:only-of-type {\n",
       "        vertical-align: middle;\n",
       "    }\n",
       "\n",
       "    .dataframe tbody tr th {\n",
       "        vertical-align: top;\n",
       "    }\n",
       "\n",
       "    .dataframe thead th {\n",
       "        text-align: right;\n",
       "    }\n",
       "</style>\n",
       "<table border=\"1\" class=\"dataframe\">\n",
       "  <thead>\n",
       "    <tr style=\"text-align: right;\">\n",
       "      <th></th>\n",
       "      <th>CustomerID</th>\n",
       "      <th>Recency</th>\n",
       "      <th>Frequency</th>\n",
       "      <th>Monetary</th>\n",
       "      <th>Segment</th>\n",
       "    </tr>\n",
       "  </thead>\n",
       "  <tbody>\n",
       "    <tr>\n",
       "      <th>0</th>\n",
       "      <td>1</td>\n",
       "      <td>2</td>\n",
       "      <td>2</td>\n",
       "      <td>1400</td>\n",
       "      <td>High Value</td>\n",
       "    </tr>\n",
       "    <tr>\n",
       "      <th>1</th>\n",
       "      <td>2</td>\n",
       "      <td>2</td>\n",
       "      <td>2</td>\n",
       "      <td>160</td>\n",
       "      <td>Medium Value</td>\n",
       "    </tr>\n",
       "    <tr>\n",
       "      <th>2</th>\n",
       "      <td>3</td>\n",
       "      <td>3</td>\n",
       "      <td>1</td>\n",
       "      <td>20</td>\n",
       "      <td>Low Value</td>\n",
       "    </tr>\n",
       "    <tr>\n",
       "      <th>3</th>\n",
       "      <td>4</td>\n",
       "      <td>1</td>\n",
       "      <td>1</td>\n",
       "      <td>100</td>\n",
       "      <td>Medium Value</td>\n",
       "    </tr>\n",
       "    <tr>\n",
       "      <th>4</th>\n",
       "      <td>5</td>\n",
       "      <td>0</td>\n",
       "      <td>1</td>\n",
       "      <td>100</td>\n",
       "      <td>Medium Value</td>\n",
       "    </tr>\n",
       "  </tbody>\n",
       "</table>\n",
       "</div>"
      ],
      "text/plain": [
       "   CustomerID  Recency  Frequency  Monetary       Segment\n",
       "0           1        2          2      1400    High Value\n",
       "1           2        2          2       160  Medium Value\n",
       "2           3        3          1        20     Low Value\n",
       "3           4        1          1       100  Medium Value\n",
       "4           5        0          1       100  Medium Value"
      ]
     },
     "execution_count": 77,
     "metadata": {},
     "output_type": "execute_result"
    }
   ],
   "source": [
    "# Simple segmentation based on Monetary value\n",
    "def segment_customer(row):\n",
    "    if row['Monetary'] >= 700:\n",
    "        return 'High Value'\n",
    "    elif row['Monetary'] >= 100:\n",
    "        return 'Medium Value'\n",
    "    else:\n",
    "        return 'Low Value'\n",
    "\n",
    "rfm['Segment'] = rfm.apply(segment_customer, axis=1)\n",
    "rfm\n"
   ]
  },
  {
   "cell_type": "code",
   "execution_count": 79,
   "id": "3afbde65-56a0-4f69-97e6-1278c4d07a19",
   "metadata": {},
   "outputs": [
    {
     "data": {
      "image/png": "[encoded data removed]",
      "text/plain": [
       "<Figure size 600x400 with 1 Axes>"
      ]
     },
     "metadata": {},
     "output_type": "display_data"
    }
   ],
   "source": [
    "# Count of customers in each segment\n",
    "segment_count = rfm['Segment'].value_counts()\n",
    "\n",
    "plt.figure(figsize=(6,4))\n",
    "plt.bar(segment_count.index, segment_count.values, color=['gold','silver','brown'])\n",
    "plt.title('Customer Segments')\n",
    "plt.xlabel('Segment')\n",
    "plt.ylabel('Number of Customers')\n",
    "plt.show()\n"
   ]
  },
  {
   "cell_type": "markdown",
   "id": "e6c9ab44-d9d7-4e49-b383-57924313c5e6",
   "metadata": {},
   "source": [
    "### Customer Insights\r\n",
    "\r\n",
    "1. **High Value Customers:** CustomerID 1\r\n",
    "   - They spend the most and are most valuable.\r\n",
    "2. **Medium Value Customers:** CustomerID 2, 4, 5\r\n",
    "   - Regular purchases with moderate spending.\r\n",
    "3. **Low Value Customers:** CustomerID 3\r\n",
    "   - Few purchases with low spending.\r\n",
    "\r\n",
    "**Business Recommendations:**\r\n",
    "- Offer loyalty programs or discounts to High Value customers to retain them.\r\n",
    "- Encourage Medium Value customers to purchase more with targeted promotions.\r\n",
    "- Engage Low Value customers with introductory offers to increase spending.\r\n"
   ]
  },
  {
   "cell_type": "code",
   "execution_count": 82,
   "id": "6e604758-cec2-432e-9f3b-2251c9d1d25f",
   "metadata": {},
   "outputs": [
    {
     "data": {
      "text/plain": [
       "Product\n",
       "Laptop        1400\n",
       "Headphones     200\n",
       "Keyboard       100\n",
       "Name: TotalSales, dtype: int64"
      ]
     },
     "execution_count": 82,
     "metadata": {},
     "output_type": "execute_result"
    }
   ],
   "source": [
    "top_products = df.groupby('Product')['TotalSales'].sum().sort_values(ascending=False).head(3)\n",
    "top_products\n"
   ]
  },
  {
   "cell_type": "code",
   "execution_count": 84,
   "id": "fbbfe957-fa3a-4d8f-b8c7-7baf231c8c7f",
   "metadata": {},
   "outputs": [
    {
     "data": {
      "text/html": [
       "<div>\n",
       "<style scoped>\n",
       "    .dataframe tbody tr th:only-of-type {\n",
       "        vertical-align: middle;\n",
       "    }\n",
       "\n",
       "    .dataframe tbody tr th {\n",
       "        vertical-align: top;\n",
       "    }\n",
       "\n",
       "    .dataframe thead th {\n",
       "        text-align: right;\n",
       "    }\n",
       "</style>\n",
       "<table border=\"1\" class=\"dataframe\">\n",
       "  <thead>\n",
       "    <tr style=\"text-align: right;\">\n",
       "      <th></th>\n",
       "      <th>Segment</th>\n",
       "      <th>Product</th>\n",
       "      <th>TotalSales</th>\n",
       "    </tr>\n",
       "  </thead>\n",
       "  <tbody>\n",
       "    <tr>\n",
       "      <th>0</th>\n",
       "      <td>High Value</td>\n",
       "      <td>Laptop</td>\n",
       "      <td>1400</td>\n",
       "    </tr>\n",
       "    <tr>\n",
       "      <th>1</th>\n",
       "      <td>Low Value</td>\n",
       "      <td>Mouse</td>\n",
       "      <td>20</td>\n",
       "    </tr>\n",
       "    <tr>\n",
       "      <th>2</th>\n",
       "      <td>Medium Value</td>\n",
       "      <td>Headphones</td>\n",
       "      <td>200</td>\n",
       "    </tr>\n",
       "    <tr>\n",
       "      <th>3</th>\n",
       "      <td>Medium Value</td>\n",
       "      <td>Keyboard</td>\n",
       "      <td>100</td>\n",
       "    </tr>\n",
       "    <tr>\n",
       "      <th>4</th>\n",
       "      <td>Medium Value</td>\n",
       "      <td>Mouse</td>\n",
       "      <td>60</td>\n",
       "    </tr>\n",
       "  </tbody>\n",
       "</table>\n",
       "</div>"
      ],
      "text/plain": [
       "        Segment     Product  TotalSales\n",
       "0    High Value      Laptop        1400\n",
       "1     Low Value       Mouse          20\n",
       "2  Medium Value  Headphones         200\n",
       "3  Medium Value    Keyboard         100\n",
       "4  Medium Value       Mouse          60"
      ]
     },
     "execution_count": 84,
     "metadata": {},
     "output_type": "execute_result"
    }
   ],
   "source": [
    "# Merge RFM segment with main data\n",
    "df_segmented = df.merge(rfm[['CustomerID','Segment']], on='CustomerID')\n",
    "\n",
    "top_products_segment = df_segmented.groupby(['Segment','Product'])['TotalSales'].sum().reset_index()\n",
    "top_products_segment.sort_values(['Segment','TotalSales'], ascending=[True, False], inplace=True)\n",
    "top_products_segment\n"
   ]
  },
  {
   "cell_type": "markdown",
   "id": "13aa0dcc-07a7-4587-b564-c3c8a5ac768a",
   "metadata": {},
   "source": [
    "### Final Summary of E-Commerce Analysis\n",
    "\n",
    "- **Total Sales:** $[sum of TotalSales]  \n",
    "- **Top-Selling Products:** Laptop, Headphones, Mouse  \n",
    "- **High Value Customer:** CustomerID 1  \n",
    "- **Medium Value Customers:** CustomerID 2, 4, 5  \n",
    "- **Low Value Customers:** CustomerID 3  \n",
    "- **Customer Insights:** \n",
    "  - Focus on High Value customers for retention.\n",
    "  - Offer promotions to Medium Value customers.\n",
    "  - Engage Low Value customers with marketing campaigns.\n",
    "- **Business Suggestions:**\n",
    "  - Promote top-selling products.\n",
    "  - Introduce product bundles for frequent buyers.\n",
    "  - Reward repeat customers with loyalty programs.\n"
   ]
  },
  {
   "cell_type": "code",
   "execution_count": null,
   "id": "f0f2cd31-31b9-4636-9515-3f3f7c747842",
   "metadata": {},
   "outputs": [],
   "source": []
  },
  {
   "cell_type": "code",
   "execution_count": 93,
   "id": "35333e77-f4dd-420a-8936-77ff4647f4ab",
   "metadata": {},
   "outputs": [],
   "source": [
    "df.to_csv('ecommerce_data.csv', index=False)\n"
   ]
  },
  {
   "cell_type": "code",
   "execution_count": 1,
   "id": "6f650456-9f2b-4e0d-b047-5d8923c3e88e",
   "metadata": {},
   "outputs": [
    {
     "ename": "NameError",
     "evalue": "name 'df' is not defined",
     "output_type": "error",
     "traceback": [
      "\u001b[1;31m---------------------------------------------------------------------------\u001b[0m",
      "\u001b[1;31mNameError\u001b[0m                                 Traceback (most recent call last)",
      "Cell \u001b[1;32mIn[1], line 1\u001b[0m\n\u001b[1;32m----> 1\u001b[0m df\u001b[38;5;241m.\u001b[39mhead()\n",
      "\u001b[1;31mNameError\u001b[0m: name 'df' is not defined"
     ]
    }
   ],
   "source": [
    "df.head()\n"
   ]
  },
  {
   "cell_type": "code",
   "execution_count": 3,
   "id": "6e5d3e4f-ab26-4cbf-995a-134ec531c91e",
   "metadata": {},
   "outputs": [
    {
     "ename": "NameError",
     "evalue": "name 'df' is not defined",
     "output_type": "error",
     "traceback": [
      "\u001b[1;31m---------------------------------------------------------------------------\u001b[0m",
      "\u001b[1;31mNameError\u001b[0m                                 Traceback (most recent call last)",
      "Cell \u001b[1;32mIn[3], line 2\u001b[0m\n\u001b[0;32m      1\u001b[0m \u001b[38;5;66;03m# Export DataFrame to CSV\u001b[39;00m\n\u001b[1;32m----> 2\u001b[0m df\u001b[38;5;241m.\u001b[39mto_csv(\u001b[38;5;124m'\u001b[39m\u001b[38;5;124mecommerce_data.csv\u001b[39m\u001b[38;5;124m'\u001b[39m, index\u001b[38;5;241m=\u001b[39m\u001b[38;5;28;01mFalse\u001b[39;00m)\n\u001b[0;32m      3\u001b[0m \u001b[38;5;28mprint\u001b[39m(\u001b[38;5;124m\"\u001b[39m\u001b[38;5;124mCSV file saved successfully!\u001b[39m\u001b[38;5;124m\"\u001b[39m)\n",
      "\u001b[1;31mNameError\u001b[0m: name 'df' is not defined"
     ]
    }
   ],
   "source": [
    "# Export DataFrame to CSV\n",
    "df.to_csv('ecommerce_data.csv', index=False)\n",
    "print(\"CSV file saved successfully!\")\n"
   ]
  },
  {
   "cell_type": "code",
   "execution_count": null,
   "id": "8389129e-b240-4737-8d79-3b92c4de24e2",
   "metadata": {},
   "outputs": [],
   "source": []
  }
 ],
 "metadata": {
  "kernelspec": {
   "display_name": "Python 3 (ipykernel)",
   "language": "python",
   "name": "python3"
  },
  "language_info": {
   "codemirror_mode": {
    "name": "ipython",
    "version": 3
   },
   "file_extension": ".py",
   "mimetype": "text/x-python",
   "name": "python",
   "nbconvert_exporter": "python",
   "pygments_lexer": "ipython3",
   "version": "3.12.4"
  }
 },
 "nbformat": 4,
 "nbformat_minor": 5
}
